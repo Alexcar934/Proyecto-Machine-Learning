{
 "cells": [
  {
   "cell_type": "markdown",
   "metadata": {},
   "source": [
    "# Valores de mercado\n",
    "\n",
    "### "
   ]
  },
  {
   "cell_type": "code",
   "execution_count": 7,
   "metadata": {},
   "outputs": [],
   "source": [
    "''' \n",
    "Primero: Vamos a limpiar el csv 'European Rosters' extraído de Kaggle.\n",
    "'''\n",
    "import pandas as pd\n",
    "\n",
    "df = pd.read_csv('/Users/alexcar934/Desktop/src/data/raw/European_Rosters.csv')"
   ]
  },
  {
   "cell_type": "code",
   "execution_count": 2,
   "metadata": {},
   "outputs": [
    {
     "data": {
      "text/plain": [
       "array(['Last update: Jun 6, 2019', 'Last update: Jun 13, 2019',\n",
       "       'Last update: Sep 27, 2019', 'Last update: Jun 3, 2019',\n",
       "       'Last update: Jun 5, 2019', 'Last update: Jun 7, 2019',\n",
       "       'Last update: Jul 24, 2019', 'Last update: Jun 10, 2019',\n",
       "       'Last update: Jun 27, 2019', 'Last update: May 23, 2019',\n",
       "       'Last update: Jul 25, 2019', 'Last update: Jun 28, 2019',\n",
       "       'Last update: Jun 2, 2019', 'Last update: Jun 11, 2019',\n",
       "       'Last update: Jun 9, 2019', 'Last update: Jun 4, 2019', nan,\n",
       "       'Last update: May 21, 2019', 'Last update: May 30, 2018',\n",
       "       'Last update: May 29, 2019', 'Last update: Aug 27, 2019',\n",
       "       'Last update: Jun 12, 2019', 'Last update: Jun 26, 2019',\n",
       "       'Last update: Feb 18, 2019', 'Last update: May 10, 2019',\n",
       "       'Last update: Aug 20, 2019', 'Last update: Jun 8, 2019'],\n",
       "      dtype=object)"
      ]
     },
     "execution_count": 2,
     "metadata": {},
     "output_type": "execute_result"
    }
   ],
   "source": [
    "df[df['League'] == 'Ligue 1']['Last Updated Date'].unique()"
   ]
  },
  {
   "cell_type": "code",
   "execution_count": 3,
   "metadata": {},
   "outputs": [],
   "source": [
    "''' Nos quedamos con:\n",
    "1. El nombre del jugador.\n",
    "2. El equipo al que pertenece.\n",
    "3. La Liga en la que juega.\n",
    "4. Su valor de mercado.\n",
    "'''\n",
    "\n",
    "df = df.loc[:,['PlayerName','Affiliation','League','Market Value (Euros)' ]]"
   ]
  },
  {
   "cell_type": "code",
   "execution_count": 4,
   "metadata": {},
   "outputs": [
    {
     "data": {
      "text/plain": [
       "' Vemos que en nuestro dataframe aparecen dos ligas que no son de nuestro interés\\n        1. Jupiler Pro League (Liga Belga)\\n        2. Premier Liga (Liga Rusa)  \\n        \\n        '"
      ]
     },
     "execution_count": 4,
     "metadata": {},
     "output_type": "execute_result"
    }
   ],
   "source": [
    "df['League'].unique()\n",
    "\n",
    "''' Vemos que en nuestro dataframe aparecen dos ligas que no son de nuestro interés\n",
    "        1. Jupiler Pro League (Liga Belga)\n",
    "        2. Premier Liga (Liga Rusa)  \n",
    "        \n",
    "        '''"
   ]
  },
  {
   "cell_type": "code",
   "execution_count": 5,
   "metadata": {},
   "outputs": [],
   "source": [
    "''' \n",
    "Por último, vamos a quitar del dataframe las ligas Belga y Rusa.\n",
    "Para nuestro estudio, utilizaremos jugadores de las ligas:\n",
    "    1. Alemana (Bundesliga)\n",
    "    2. Italiana (Serie A)\n",
    "    3. Holandesa (Eredivisie)\n",
    "    4. Española (LaLiga)\n",
    "    5. Inglesa (Premier League)\n",
    "    6. Portuguesa (Liga NOS)\n",
    "    7. Francesa (Ligue 1)\n",
    "'''\n",
    "\n",
    "\n",
    "# Creamos una lista con las ligas de nuestro interés\n",
    "\n",
    "ligas = ['Bundesliga', 'Serie A', 'Eredivisie', 'LaLiga',\n",
    "       'Premier League', 'Liga NOS', 'Ligue 1']\n",
    "\n",
    "df = df[df['League'].isin(ligas)].dropna()"
   ]
  },
  {
   "cell_type": "code",
   "execution_count": 6,
   "metadata": {},
   "outputs": [
    {
     "data": {
      "text/html": [
       "<div>\n",
       "<style scoped>\n",
       "    .dataframe tbody tr th:only-of-type {\n",
       "        vertical-align: middle;\n",
       "    }\n",
       "\n",
       "    .dataframe tbody tr th {\n",
       "        vertical-align: top;\n",
       "    }\n",
       "\n",
       "    .dataframe thead th {\n",
       "        text-align: right;\n",
       "    }\n",
       "</style>\n",
       "<table border=\"1\" class=\"dataframe\">\n",
       "  <thead>\n",
       "    <tr style=\"text-align: right;\">\n",
       "      <th></th>\n",
       "      <th>Nombre del jugador</th>\n",
       "      <th>Equipo</th>\n",
       "      <th>Liga</th>\n",
       "      <th>Valor de Mercado</th>\n",
       "    </tr>\n",
       "  </thead>\n",
       "  <tbody>\n",
       "    <tr>\n",
       "      <th>0</th>\n",
       "      <td>Anthony Modeste</td>\n",
       "      <td>1. FC Koln</td>\n",
       "      <td>Bundesliga</td>\n",
       "      <td>7000000</td>\n",
       "    </tr>\n",
       "    <tr>\n",
       "      <th>1</th>\n",
       "      <td>Benno Schmitz</td>\n",
       "      <td>1. FC Koln</td>\n",
       "      <td>Bundesliga</td>\n",
       "      <td>1000000</td>\n",
       "    </tr>\n",
       "    <tr>\n",
       "      <th>2</th>\n",
       "      <td>Birger Verstraete</td>\n",
       "      <td>1. FC Koln</td>\n",
       "      <td>Bundesliga</td>\n",
       "      <td>4000000</td>\n",
       "    </tr>\n",
       "    <tr>\n",
       "      <th>3</th>\n",
       "      <td>Brady Scott</td>\n",
       "      <td>1. FC Koln</td>\n",
       "      <td>Bundesliga</td>\n",
       "      <td>100000</td>\n",
       "    </tr>\n",
       "    <tr>\n",
       "      <th>4</th>\n",
       "      <td>Christian Clemens</td>\n",
       "      <td>1. FC Koln</td>\n",
       "      <td>Bundesliga</td>\n",
       "      <td>1750000</td>\n",
       "    </tr>\n",
       "    <tr>\n",
       "      <th>...</th>\n",
       "      <td>...</td>\n",
       "      <td>...</td>\n",
       "      <td>...</td>\n",
       "      <td>...</td>\n",
       "    </tr>\n",
       "    <tr>\n",
       "      <th>4251</th>\n",
       "      <td>Ruben Neves</td>\n",
       "      <td>Wolves</td>\n",
       "      <td>Premier League</td>\n",
       "      <td>50000000</td>\n",
       "    </tr>\n",
       "    <tr>\n",
       "      <th>4252</th>\n",
       "      <td>Ruben Vinagre</td>\n",
       "      <td>Wolves</td>\n",
       "      <td>Premier League</td>\n",
       "      <td>10000000</td>\n",
       "    </tr>\n",
       "    <tr>\n",
       "      <th>4253</th>\n",
       "      <td>Rui Patricio</td>\n",
       "      <td>Wolves</td>\n",
       "      <td>Premier League</td>\n",
       "      <td>20000000</td>\n",
       "    </tr>\n",
       "    <tr>\n",
       "      <th>4254</th>\n",
       "      <td>Ryan Bennett</td>\n",
       "      <td>Wolves</td>\n",
       "      <td>Premier League</td>\n",
       "      <td>7000000</td>\n",
       "    </tr>\n",
       "    <tr>\n",
       "      <th>4255</th>\n",
       "      <td>Willy Boly</td>\n",
       "      <td>Wolves</td>\n",
       "      <td>Premier League</td>\n",
       "      <td>15000000</td>\n",
       "    </tr>\n",
       "  </tbody>\n",
       "</table>\n",
       "<p>3570 rows × 4 columns</p>\n",
       "</div>"
      ],
      "text/plain": [
       "     Nombre del jugador      Equipo            Liga  Valor de Mercado\n",
       "0       Anthony Modeste  1. FC Koln      Bundesliga           7000000\n",
       "1         Benno Schmitz  1. FC Koln      Bundesliga           1000000\n",
       "2     Birger Verstraete  1. FC Koln      Bundesliga           4000000\n",
       "3           Brady Scott  1. FC Koln      Bundesliga            100000\n",
       "4     Christian Clemens  1. FC Koln      Bundesliga           1750000\n",
       "...                 ...         ...             ...               ...\n",
       "4251        Ruben Neves      Wolves  Premier League          50000000\n",
       "4252      Ruben Vinagre      Wolves  Premier League          10000000\n",
       "4253       Rui Patricio      Wolves  Premier League          20000000\n",
       "4254       Ryan Bennett      Wolves  Premier League           7000000\n",
       "4255         Willy Boly      Wolves  Premier League          15000000\n",
       "\n",
       "[3570 rows x 4 columns]"
      ]
     },
     "execution_count": 6,
     "metadata": {},
     "output_type": "execute_result"
    }
   ],
   "source": [
    "'''    \n",
    "Por último, quiero:\n",
    "    El valor de mercado en números enteros\n",
    "    Cambiar el nombre de las columnas\n",
    "'''\n",
    "valor = []\n",
    "\n",
    "for i in df['Market Value (Euros)']:\n",
    "    valor.append(int(i))\n",
    "\n",
    "df['Valor de Mercado'] = valor\n",
    "\n",
    "df = df.loc[:,['PlayerName', 'Affiliation', 'League', 'Valor de Mercado']].dropna()\n",
    "df.columns = ['Nombre del jugador', 'Equipo', 'Liga', 'Valor de Mercado']\n",
    "\n",
    "df\n",
    "\n",
    "    \n"
   ]
  },
  {
   "cell_type": "code",
   "execution_count": 8,
   "metadata": {},
   "outputs": [],
   "source": [
    "#exportamos a xlsx, ya que tendremos que realizar algunas modificaciones desde la aplicación.\n",
    "df.to_excel('/Users/alexcar934/Desktop/src/data/processed/MarketValues.xlsx')"
   ]
  },
  {
   "cell_type": "markdown",
   "metadata": {},
   "source": [
    "### Desde Excel se llevarán a cabo distintas modificaciones en ciertos datos, por ello este archivo se renombra MarketValues_Clean"
   ]
  },
  {
   "cell_type": "markdown",
   "metadata": {},
   "source": [
    "# Enumerar las ligas según el valor de mercado \n",
    "\n",
    "### Las enumeraremos a modo de ranking \n",
    "\n",
    "(1. La más valiosa, 7. La menos valiosa)\n"
   ]
  },
  {
   "cell_type": "code",
   "execution_count": 8,
   "metadata": {},
   "outputs": [
    {
     "data": {
      "text/html": [
       "<div>\n",
       "<style scoped>\n",
       "    .dataframe tbody tr th:only-of-type {\n",
       "        vertical-align: middle;\n",
       "    }\n",
       "\n",
       "    .dataframe tbody tr th {\n",
       "        vertical-align: top;\n",
       "    }\n",
       "\n",
       "    .dataframe thead th {\n",
       "        text-align: right;\n",
       "    }\n",
       "</style>\n",
       "<table border=\"1\" class=\"dataframe\">\n",
       "  <thead>\n",
       "    <tr style=\"text-align: right;\">\n",
       "      <th></th>\n",
       "      <th>Valor de Mercado</th>\n",
       "      <th>Ranking</th>\n",
       "    </tr>\n",
       "    <tr>\n",
       "      <th>Liga</th>\n",
       "      <th></th>\n",
       "      <th></th>\n",
       "    </tr>\n",
       "  </thead>\n",
       "  <tbody>\n",
       "    <tr>\n",
       "      <th>Premier League</th>\n",
       "      <td>9323925000</td>\n",
       "      <td>1</td>\n",
       "    </tr>\n",
       "    <tr>\n",
       "      <th>LaLiga</th>\n",
       "      <td>6179850000</td>\n",
       "      <td>2</td>\n",
       "    </tr>\n",
       "    <tr>\n",
       "      <th>Serie A</th>\n",
       "      <td>5310925000</td>\n",
       "      <td>3</td>\n",
       "    </tr>\n",
       "    <tr>\n",
       "      <th>Bundesliga</th>\n",
       "      <td>4712900000</td>\n",
       "      <td>4</td>\n",
       "    </tr>\n",
       "    <tr>\n",
       "      <th>Ligue 1</th>\n",
       "      <td>3588700000</td>\n",
       "      <td>5</td>\n",
       "    </tr>\n",
       "    <tr>\n",
       "      <th>Liga NOS</th>\n",
       "      <td>1134100000</td>\n",
       "      <td>6</td>\n",
       "    </tr>\n",
       "    <tr>\n",
       "      <th>Eredivisie</th>\n",
       "      <td>1016550000</td>\n",
       "      <td>7</td>\n",
       "    </tr>\n",
       "  </tbody>\n",
       "</table>\n",
       "</div>"
      ],
      "text/plain": [
       "                Valor de Mercado  Ranking\n",
       "Liga                                     \n",
       "Premier League        9323925000        1\n",
       "LaLiga                6179850000        2\n",
       "Serie A               5310925000        3\n",
       "Bundesliga            4712900000        4\n",
       "Ligue 1               3588700000        5\n",
       "Liga NOS              1134100000        6\n",
       "Eredivisie            1016550000        7"
      ]
     },
     "execution_count": 8,
     "metadata": {},
     "output_type": "execute_result"
    }
   ],
   "source": [
    "df_ligas = pd.DataFrame(df.groupby('Liga')['Valor de Mercado'].sum().sort_values(ascending=False))\n",
    "df_ligas['Ranking'] = range(1,8)\n",
    "df_ligas"
   ]
  }
 ],
 "metadata": {
  "kernelspec": {
   "display_name": "Python 3.10.6 64-bit",
   "language": "python",
   "name": "python3"
  },
  "language_info": {
   "codemirror_mode": {
    "name": "ipython",
    "version": 3
   },
   "file_extension": ".py",
   "mimetype": "text/x-python",
   "name": "python",
   "nbconvert_exporter": "python",
   "pygments_lexer": "ipython3",
   "version": "3.10.6"
  },
  "orig_nbformat": 4,
  "vscode": {
   "interpreter": {
    "hash": "aee8b7b246df8f9039afb4144a1f6fd8d2ca17a180786b69acc140d282b71a49"
   }
  }
 },
 "nbformat": 4,
 "nbformat_minor": 2
}
